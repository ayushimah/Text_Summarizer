{
 "cells": [
  {
   "cell_type": "markdown",
   "metadata": {},
   "source": [
    "## Understanding the memory size allocation in lists in python \n",
    "1. https://stackoverflow.com/questions/14546178/does-python-have-a-stack-heap-and-how-is-memory-managed\n",
    "2. https://stackoverflow.com/questions/7247298/size-of-list-in-memory"
   ]
  },
  {
   "cell_type": "code",
   "execution_count": 7,
   "metadata": {},
   "outputs": [
    {
     "name": "stdout",
     "output_type": "stream",
     "text": [
      "Once deleted, variables cannot be recovered. Proceed (y/[n])? y\n",
      "9223372036854775807\n"
     ]
    }
   ],
   "source": [
    "%reset\n",
    "# the memory that can be allocated for all the python objects is sys.maxsize\n",
    "import sys\n",
    "print(sys.maxsize)\n",
    "# create a list with max element"
   ]
  },
  {
   "cell_type": "code",
   "execution_count": 3,
   "metadata": {},
   "outputs": [
    {
     "name": "stdout",
     "output_type": "stream",
     "text": [
      "The size of the empty list in Bytes is: 64\n",
      "The size of list with one element already in the list is: 72\n",
      "The size of the empty string in Bytes is: 49\n",
      "The size of the string with 2 characters in Bytes is: 51\n",
      "The size of the string with 6 characters in Bytes is: 55\n",
      "The size of int in Bytes is: 28\n"
     ]
    }
   ],
   "source": [
    "# understanding the list\n",
    "\n",
    "a=[]\n",
    "print('The size of the empty list in Bytes is: {}'.format(sys.getsizeof(a)))\n",
    "\n",
    "print('The size of list with one element already in the list is: {}'.format(sys.getsizeof([1])))\n",
    "\n",
    "empty_name = \"\"\n",
    "print('The size of the empty string in Bytes is: {}'.format(sys.getsizeof(empty_name)))\n",
    "\n",
    "name1 = \"As\"\n",
    "print('The size of the string with 2 characters in Bytes is: {}'.format(sys.getsizeof(name1)))\n",
    "name2 = \"Ashish\"\n",
    "print('The size of the string with 6 characters in Bytes is: {}'.format(sys.getsizeof(name2)))\n",
    "num = 5\n",
    "print('The size of int in Bytes is: {}'.format(sys.getsizeof(num)))\n",
    "\n",
    "# from this we conclude that\n",
    "# string: 49+number of characters\n",
    "# int: 28 bytes\n",
    "# empty list: 64bytes"
   ]
  },
  {
   "cell_type": "code",
   "execution_count": 4,
   "metadata": {},
   "outputs": [
    {
     "name": "stdout",
     "output_type": "stream",
     "text": [
      "The size of the list in Bytes is: 64\n",
      "The size of the list in Bytes is: 96\n",
      "The size of the list in Bytes is: 96\n",
      "[5, 'Ashish']\n"
     ]
    }
   ],
   "source": [
    "# list with elements\n",
    "print('The size of the list in Bytes is: {}'.format(sys.getsizeof(a)))\n",
    "a.append(5)\n",
    "print('The size of the list in Bytes is: {}'.format(sys.getsizeof(a)))\n",
    "a.append(\"Ashish\")\n",
    "print('The size of the list in Bytes is: {}'.format(sys.getsizeof(a)))\n",
    "print(a)"
   ]
  },
  {
   "cell_type": "code",
   "execution_count": 1,
   "metadata": {},
   "outputs": [
    {
     "name": "stdout",
     "output_type": "stream",
     "text": [
      "Once deleted, variables cannot be recovered. Proceed (y/[n])? y\n"
     ]
    }
   ],
   "source": [
    "%reset"
   ]
  },
  {
   "cell_type": "code",
   "execution_count": 6,
   "metadata": {},
   "outputs": [
    {
     "name": "stdout",
     "output_type": "stream",
     "text": [
      "The size of this empty list is: 64\n",
      "The size of this empty list is: 64\n",
      "The size of this empty list is: 96\n",
      "The size of this empty list is: 96\n",
      "The size of this empty list is: 96\n",
      "The size of this empty list is: 96\n",
      "The size of this empty list is: 96\n",
      "The size of this empty list is: 96\n",
      "The size of this empty list is: 96\n",
      "The size of this empty list is: 96\n",
      "The size of this empty list is: 128\n",
      "The size of this empty list is: 128\n"
     ]
    }
   ],
   "source": [
    "# appending has a complex element allocation strategy\n",
    "list_append = []\n",
    "list_append2 = []\n",
    "print('The size of this empty list is: {}'.format(sys.getsizeof(list_append)))\n",
    "print('The size of this empty list is: {}'.format(sys.getsizeof(list_append2)))\n",
    "# append an element\n",
    "list_append.append(1)\n",
    "list_append2.append(\"A\")\n",
    "print('The size of this empty list is: {}'.format(sys.getsizeof(list_append)))\n",
    "print('The size of this empty list is: {}'.format(sys.getsizeof(list_append2)))\n",
    "list_append.append(2)\n",
    "list_append2.append(\"B\")\n",
    "print('The size of this empty list is: {}'.format(sys.getsizeof(list_append)))\n",
    "print('The size of this empty list is: {}'.format(sys.getsizeof(list_append2)))\n",
    "list_append.append(3)\n",
    "list_append2.append(\"C\")\n",
    "print('The size of this empty list is: {}'.format(sys.getsizeof(list_append)))\n",
    "print('The size of this empty list is: {}'.format(sys.getsizeof(list_append2)))\n",
    "list_append.append(4)\n",
    "list_append2.append(\"D\")\n",
    "print('The size of this empty list is: {}'.format(sys.getsizeof(list_append)))\n",
    "print('The size of this empty list is: {}'.format(sys.getsizeof(list_append2)))\n",
    "list_append.append(5)\n",
    "list_append2.append(\"E\")\n",
    "print('The size of this empty list is: {}'.format(sys.getsizeof(list_append)))\n",
    "print('The size of this empty list is: {}'.format(sys.getsizeof(list_append)))"
   ]
  },
  {
   "cell_type": "code",
   "execution_count": null,
   "metadata": {
    "collapsed": true
   },
   "outputs": [],
   "source": []
  }
 ],
 "metadata": {
  "kernelspec": {
   "display_name": "Python 3",
   "language": "python",
   "name": "python3"
  },
  "language_info": {
   "codemirror_mode": {
    "name": "ipython",
    "version": 3
   },
   "file_extension": ".py",
   "mimetype": "text/x-python",
   "name": "python",
   "nbconvert_exporter": "python",
   "pygments_lexer": "ipython3",
   "version": "3.6.3"
  }
 },
 "nbformat": 4,
 "nbformat_minor": 2
}
